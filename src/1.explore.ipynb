{
    "cells": [
        {
            "cell_type": "code",
            "execution_count": 1,
            "metadata": {},
            "outputs": [],
            "source": [
                "# Descarga de datos a traves de la API de Kaggle\n",
                "\n",
                "import os\n",
                "import kaggle\n",
                "import pandas as pd\n",
                "\n",
                "# Configurar las credenciales de Kaggle\n",
                "os.environ['KAGGLE_USERNAME'] = 'sergiogrigorow'\n",
                "os.environ['KAGGLE_KEY'] = '53eaa416645f87b31ba66153190551e0'\n",
                "\n",
                "# Autenticarse en Kaggle\n",
                "kaggle.api.authenticate()\n",
                "\n",
                "# Ruta donde se guardará el archivo descargado\n",
                "directorio = 'C:/Users/sergi/Proyectos/Proyecto_Final/data/raw'\n",
                "archivo_prueba = os.path.join(directorio, 'vehicles.csv')\n",
                "\n",
                "if not os.path.exists(archivo_prueba):\n",
                "    # Descargar y descomprimir el dataset\n",
                "    kaggle.api.dataset_download_files('austinreese/craigslist-carstrucks-data', path=directorio, unzip=True)\n",
                "else:\n",
                "    pass\n",
                "\n"
            ]
        },
        {
            "cell_type": "code",
            "execution_count": 2,
            "metadata": {},
            "outputs": [
                {
                    "name": "stdout",
                    "output_type": "stream",
                    "text": [
                        "           id                                                url  \\\n",
                        "0  7222695916  https://prescott.craigslist.org/cto/d/prescott...   \n",
                        "1  7218891961  https://fayar.craigslist.org/ctd/d/bentonville...   \n",
                        "2  7221797935  https://keys.craigslist.org/cto/d/summerland-k...   \n",
                        "3  7222270760  https://worcester.craigslist.org/cto/d/west-br...   \n",
                        "4  7210384030  https://greensboro.craigslist.org/cto/d/trinit...   \n",
                        "\n",
                        "                   region                         region_url  price  year  \\\n",
                        "0                prescott    https://prescott.craigslist.org   6000   NaN   \n",
                        "1            fayetteville       https://fayar.craigslist.org  11900   NaN   \n",
                        "2            florida keys        https://keys.craigslist.org  21000   NaN   \n",
                        "3  worcester / central MA   https://worcester.craigslist.org   1500   NaN   \n",
                        "4              greensboro  https://greensboro.craigslist.org   4900   NaN   \n",
                        "\n",
                        "  manufacturer model condition cylinders  ... size  type paint_color  \\\n",
                        "0          NaN   NaN       NaN       NaN  ...  NaN   NaN         NaN   \n",
                        "1          NaN   NaN       NaN       NaN  ...  NaN   NaN         NaN   \n",
                        "2          NaN   NaN       NaN       NaN  ...  NaN   NaN         NaN   \n",
                        "3          NaN   NaN       NaN       NaN  ...  NaN   NaN         NaN   \n",
                        "4          NaN   NaN       NaN       NaN  ...  NaN   NaN         NaN   \n",
                        "\n",
                        "  image_url description county state lat long posting_date  \n",
                        "0       NaN         NaN    NaN    az NaN  NaN          NaN  \n",
                        "1       NaN         NaN    NaN    ar NaN  NaN          NaN  \n",
                        "2       NaN         NaN    NaN    fl NaN  NaN          NaN  \n",
                        "3       NaN         NaN    NaN    ma NaN  NaN          NaN  \n",
                        "4       NaN         NaN    NaN    nc NaN  NaN          NaN  \n",
                        "\n",
                        "[5 rows x 26 columns]\n"
                    ]
                }
            ],
            "source": [
                "# Leer el archivo CSV descargado\n",
                "directorio_csv = os.path.join(directorio, 'vehicles.csv')\n",
                "df = pd.read_csv(directorio_csv,quotechar='\"')\n",
                "\n",
                "# Mostrar las primeras filas del DataFrame\n",
                "print(df.head())"
            ]
        },
        {
            "cell_type": "code",
            "execution_count": 3,
            "metadata": {},
            "outputs": [
                {
                    "name": "stdout",
                    "output_type": "stream",
                    "text": [
                        "<class 'pandas.core.frame.DataFrame'>\n",
                        "RangeIndex: 426880 entries, 0 to 426879\n",
                        "Data columns (total 26 columns):\n",
                        " #   Column        Non-Null Count   Dtype  \n",
                        "---  ------        --------------   -----  \n",
                        " 0   id            426880 non-null  int64  \n",
                        " 1   url           426880 non-null  object \n",
                        " 2   region        426880 non-null  object \n",
                        " 3   region_url    426880 non-null  object \n",
                        " 4   price         426880 non-null  int64  \n",
                        " 5   year          425675 non-null  float64\n",
                        " 6   manufacturer  409234 non-null  object \n",
                        " 7   model         421603 non-null  object \n",
                        " 8   condition     252776 non-null  object \n",
                        " 9   cylinders     249202 non-null  object \n",
                        " 10  fuel          423867 non-null  object \n",
                        " 11  odometer      422480 non-null  float64\n",
                        " 12  title_status  418638 non-null  object \n",
                        " 13  transmission  424324 non-null  object \n",
                        " 14  VIN           265838 non-null  object \n",
                        " 15  drive         296313 non-null  object \n",
                        " 16  size          120519 non-null  object \n",
                        " 17  type          334022 non-null  object \n",
                        " 18  paint_color   296677 non-null  object \n",
                        " 19  image_url     426812 non-null  object \n",
                        " 20  description   426810 non-null  object \n",
                        " 21  county        0 non-null       float64\n",
                        " 22  state         426880 non-null  object \n",
                        " 23  lat           420331 non-null  float64\n",
                        " 24  long          420331 non-null  float64\n",
                        " 25  posting_date  426812 non-null  object \n",
                        "dtypes: float64(5), int64(2), object(19)\n",
                        "memory usage: 84.7+ MB\n"
                    ]
                }
            ],
            "source": [
                "# Informacion del dataframe\n",
                "df.info()"
            ]
        },
        {
            "cell_type": "code",
            "execution_count": 4,
            "metadata": {},
            "outputs": [
                {
                    "data": {
                        "text/plain": [
                            "(426880, 26)"
                        ]
                    },
                    "execution_count": 4,
                    "metadata": {},
                    "output_type": "execute_result"
                }
            ],
            "source": [
                "# Forma del dataframe\n",
                "df.shape\n"
            ]
        },
        {
            "cell_type": "code",
            "execution_count": 5,
            "metadata": {},
            "outputs": [],
            "source": [
                "# Se eliminan columnas con bajo valor predictivo o analitico\n",
                "columnas_eliminar = [\"id\",\"county\", \"VIN\", \"region_url\", \"image_url\", \"description\", \"url\", \"cylinders\",\"posting_date\",\"title_status\"]\n",
                "df = df.drop(columns = columnas_eliminar)"
            ]
        },
        {
            "cell_type": "code",
            "execution_count": 6,
            "metadata": {},
            "outputs": [
                {
                    "data": {
                        "text/plain": [
                            "(426880, 16)"
                        ]
                    },
                    "execution_count": 6,
                    "metadata": {},
                    "output_type": "execute_result"
                }
            ],
            "source": [
                "# Forma del dataframe posterior a la eliminacion de columnas\n",
                "df.shape"
            ]
        },
        {
            "cell_type": "code",
            "execution_count": 7,
            "metadata": {},
            "outputs": [
                {
                    "data": {
                        "text/plain": [
                            "region               0\n",
                            "price                0\n",
                            "year              1205\n",
                            "manufacturer     17646\n",
                            "model             5277\n",
                            "condition       174104\n",
                            "fuel              3013\n",
                            "odometer          4400\n",
                            "transmission      2556\n",
                            "drive           130567\n",
                            "size            306361\n",
                            "type             92858\n",
                            "paint_color     130203\n",
                            "state                0\n",
                            "lat               6549\n",
                            "long              6549\n",
                            "dtype: int64"
                        ]
                    },
                    "execution_count": 7,
                    "metadata": {},
                    "output_type": "execute_result"
                }
            ],
            "source": [
                "# Cantidad de valores nulos por columna\n",
                "nulos = df.isnull().sum()\n",
                "nulos\n"
            ]
        },
        {
            "cell_type": "code",
            "execution_count": 8,
            "metadata": {},
            "outputs": [
                {
                    "data": {
                        "text/plain": [
                            "region               0\n",
                            "price                0\n",
                            "year                 0\n",
                            "manufacturer         0\n",
                            "model                0\n",
                            "condition       153385\n",
                            "fuel                 0\n",
                            "odometer             0\n",
                            "transmission         0\n",
                            "drive           117578\n",
                            "size            282111\n",
                            "type             82674\n",
                            "paint_color     118063\n",
                            "state                0\n",
                            "lat                  0\n",
                            "long                 0\n",
                            "dtype: int64"
                        ]
                    },
                    "execution_count": 8,
                    "metadata": {},
                    "output_type": "execute_result"
                }
            ],
            "source": [
                "# Eliminar registros con valores nulos de columnas con pocos valores nulos\n",
                "del_nulos = ['year','model','odometer','transmission','lat','long','manufacturer','fuel']\n",
                "df = df.dropna(subset= del_nulos )\n",
                "nulos = df.isnull().sum()\n",
                "nulos"
            ]
        },
        {
            "cell_type": "code",
            "execution_count": 9,
            "metadata": {},
            "outputs": [
                {
                    "data": {
                        "text/plain": [
                            "(390219, 16)"
                        ]
                    },
                    "execution_count": 9,
                    "metadata": {},
                    "output_type": "execute_result"
                }
            ],
            "source": [
                "df.shape"
            ]
        },
        {
            "cell_type": "code",
            "execution_count": 10,
            "metadata": {},
            "outputs": [
                {
                    "data": {
                        "text/plain": [
                            "region               0\n",
                            "price                0\n",
                            "year                 0\n",
                            "manufacturer         0\n",
                            "model                0\n",
                            "condition       153385\n",
                            "fuel                 0\n",
                            "odometer             0\n",
                            "transmission         0\n",
                            "drive           117578\n",
                            "size            282111\n",
                            "type              8664\n",
                            "paint_color     118063\n",
                            "state                0\n",
                            "lat                  0\n",
                            "long                 0\n",
                            "dtype: int64"
                        ]
                    },
                    "execution_count": 10,
                    "metadata": {},
                    "output_type": "execute_result"
                }
            ],
            "source": [
                "# Completar datos faltantes en Type, a partir de la informacion del model, manufacturer, transmision y fuel\n",
                "# Crear un diccionario para mapear las combinaciones de model, manufacturer, y transmission al type más frecuente\n",
                "combination_to_type = df.groupby(['model', 'manufacturer', 'transmission','fuel'])['type'].apply(lambda x: x.mode()[0] if not x.mode().empty else None).to_dict()\n",
                "\n",
                "# Función para rellenar los valores nulos de type\n",
                "def fill_type(row):\n",
                "    if pd.isnull(row['type']):\n",
                "        return combination_to_type.get((row['model'], row['manufacturer'], row['transmission'],row['fuel']), None)\n",
                "    return row['type']\n",
                "\n",
                "# Aplicar la función al DataFrame\n",
                "df['type'] = df.apply(fill_type, axis=1)\n",
                "\n",
                "nulos = df.isnull().sum()\n",
                "nulos"
            ]
        },
        {
            "cell_type": "code",
            "execution_count": 11,
            "metadata": {},
            "outputs": [
                {
                    "data": {
                        "text/plain": [
                            "region               0\n",
                            "price                0\n",
                            "year                 0\n",
                            "manufacturer         0\n",
                            "model                0\n",
                            "condition       147212\n",
                            "fuel                 0\n",
                            "odometer             0\n",
                            "transmission         0\n",
                            "drive           111824\n",
                            "size            273705\n",
                            "type                 0\n",
                            "paint_color     111431\n",
                            "state                0\n",
                            "lat                  0\n",
                            "long                 0\n",
                            "dtype: int64"
                        ]
                    },
                    "execution_count": 11,
                    "metadata": {},
                    "output_type": "execute_result"
                }
            ],
            "source": [
                "# Eliminar los registros para los cuales no se pudo inferir un type en el paso anterior\n",
                "df = df.dropna(subset=['type'])\n",
                "nulos = df.isnull().sum()\n",
                "nulos"
            ]
        },
        {
            "cell_type": "code",
            "execution_count": 12,
            "metadata": {},
            "outputs": [
                {
                    "data": {
                        "text/plain": [
                            "region               0\n",
                            "price                0\n",
                            "year                 0\n",
                            "manufacturer         0\n",
                            "model                0\n",
                            "condition       147212\n",
                            "fuel                 0\n",
                            "odometer             0\n",
                            "transmission         0\n",
                            "drive            23630\n",
                            "size            273705\n",
                            "type                 0\n",
                            "paint_color     111431\n",
                            "state                0\n",
                            "lat                  0\n",
                            "long                 0\n",
                            "dtype: int64"
                        ]
                    },
                    "execution_count": 12,
                    "metadata": {},
                    "output_type": "execute_result"
                }
            ],
            "source": [
                "# Completar datos faltantes en drive, a partir de la informacion del model, manufacturer, transmision, type y fuel\n",
                "# Crear un diccionario para mapear las combinaciones de model, manufacturer, transmission, type y fuel al drive más frecuente\n",
                "\n",
                "combination_to_drive = df.groupby(['model', 'manufacturer', 'transmission','type','fuel'])['drive'].apply(lambda x: x.mode()[0] if not x.mode().empty else None).to_dict()\n",
                "\n",
                "# Función para rellenar los valores nulos de drive\n",
                "def fill_drive(row):\n",
                "    if pd.isnull(row['drive']):\n",
                "        return combination_to_drive.get((row['model'], row['manufacturer'], row['transmission'], row['type'],row['fuel']), None)\n",
                "    return row['drive']\n",
                "\n",
                "# Aplicar la función al DataFrame\n",
                "df['drive'] = df.apply(fill_drive, axis=1)\n",
                "\n",
                "nulos = df.isnull().sum()\n",
                "nulos"
            ]
        },
        {
            "cell_type": "code",
            "execution_count": 13,
            "metadata": {},
            "outputs": [
                {
                    "data": {
                        "text/plain": [
                            "region               0\n",
                            "price                0\n",
                            "year                 0\n",
                            "manufacturer         0\n",
                            "model                0\n",
                            "condition       144073\n",
                            "fuel                 0\n",
                            "odometer             0\n",
                            "transmission         0\n",
                            "drive                0\n",
                            "size            250826\n",
                            "type                 0\n",
                            "paint_color     104416\n",
                            "state                0\n",
                            "lat                  0\n",
                            "long                 0\n",
                            "dtype: int64"
                        ]
                    },
                    "execution_count": 13,
                    "metadata": {},
                    "output_type": "execute_result"
                }
            ],
            "source": [
                "# Eliminar los registros para los cuales no se pudo inferir un type en el paso anterior\n",
                "df = df.dropna(subset=['drive'])\n",
                "nulos = df.isnull().sum()\n",
                "nulos"
            ]
        },
        {
            "cell_type": "code",
            "execution_count": 14,
            "metadata": {},
            "outputs": [
                {
                    "data": {
                        "text/plain": [
                            "region               0\n",
                            "price                0\n",
                            "year                 0\n",
                            "manufacturer         0\n",
                            "model                0\n",
                            "condition       144073\n",
                            "fuel                 0\n",
                            "odometer             0\n",
                            "transmission         0\n",
                            "drive                0\n",
                            "size             51794\n",
                            "type                 0\n",
                            "paint_color     104416\n",
                            "state                0\n",
                            "lat                  0\n",
                            "long                 0\n",
                            "dtype: int64"
                        ]
                    },
                    "execution_count": 14,
                    "metadata": {},
                    "output_type": "execute_result"
                }
            ],
            "source": [
                "# Se repite el mismo paso anterior, esta vez para encontrar los \"size\" faltantes\n",
                "combination_to_size = df.groupby(['model', 'manufacturer'])['size'].apply(lambda x: x.mode()[0] if not x.mode().empty else None).to_dict()\n",
                "\n",
                "def fill_size(row):\n",
                "    if pd.isnull(row['size']):\n",
                "        return combination_to_size.get((row['model'], row['manufacturer']), None)\n",
                "    return row['size']\n",
                "\n",
                "df['size'] = df.apply(fill_size, axis=1)\n",
                "\n",
                "nulos = df.isnull().sum()\n",
                "nulos"
            ]
        },
        {
            "cell_type": "code",
            "execution_count": 15,
            "metadata": {},
            "outputs": [
                {
                    "data": {
                        "text/plain": [
                            "(357925, 16)"
                        ]
                    },
                    "execution_count": 15,
                    "metadata": {},
                    "output_type": "execute_result"
                }
            ],
            "source": [
                "df.shape"
            ]
        },
        {
            "cell_type": "code",
            "execution_count": 16,
            "metadata": {},
            "outputs": [
                {
                    "name": "stdout",
                    "output_type": "stream",
                    "text": [
                        "Valores unicos en: 'region': 404\n",
                        "Valores unicos en: 'price': 14594\n",
                        "Valores unicos en: 'year': 105\n",
                        "Valores unicos en: 'manufacturer': 41\n",
                        "Valores unicos en: 'model': 17377\n",
                        "Valores unicos en: 'condition': 6\n",
                        "Valores unicos en: 'fuel': 5\n",
                        "Valores unicos en: 'odometer': 96683\n",
                        "Valores unicos en: 'transmission': 3\n",
                        "Valores unicos en: 'drive': 3\n",
                        "Valores unicos en: 'size': 4\n",
                        "Valores unicos en: 'type': 13\n",
                        "Valores unicos en: 'paint_color': 12\n",
                        "Valores unicos en: 'state': 51\n",
                        "Valores unicos en: 'lat': 48515\n",
                        "Valores unicos en: 'long': 49020\n"
                    ]
                }
            ],
            "source": [
                "# Cantidad de valores unicos por cada columna\n",
                "# Iterar sobre las columnas del DataFrame\n",
                "for columna in df.columns:\n",
                "    # Calcular la cantidad de valores únicos en cada columna\n",
                "    cantidad_valores_unicos = df[columna].nunique()\n",
                "    # Imprimir la cantidad de valores únicos en la columna actual\n",
                "    print(f\"Valores unicos en: '{columna}': {cantidad_valores_unicos}\")\n"
            ]
        },
        {
            "cell_type": "code",
            "execution_count": null,
            "metadata": {},
            "outputs": [],
            "source": [
                "# Observamos gran diversidad de datos en la columna modelos.  \n",
                "# Esto es algo que buscaremos solucionar en la siguiente etapa"
            ]
        },
        {
            "cell_type": "code",
            "execution_count": 17,
            "metadata": {},
            "outputs": [],
            "source": [
                "df.to_csv(\"C:\\\\Users\\\\sergi\\\\Proyectos\\\\Proyecto_Final\\\\data\\\\processed\\\\vehicles_clean.csv\", index=False)"
            ]
        }
    ],
    "metadata": {
        "kernelspec": {
            "display_name": "Python 3.8.13 64-bit ('3.8.13')",
            "language": "python",
            "name": "python3"
        },
        "language_info": {
            "codemirror_mode": {
                "name": "ipython",
                "version": 3
            },
            "file_extension": ".py",
            "mimetype": "text/x-python",
            "name": "python",
            "nbconvert_exporter": "python",
            "pygments_lexer": "ipython3",
            "version": "3.12.0"
        },
        "orig_nbformat": 4,
        "vscode": {
            "interpreter": {
                "hash": "110cc1dee26208153f2972f08a2ad52b6a56238dc66d48e87fb757ef2996db56"
            }
        }
    },
    "nbformat": 4,
    "nbformat_minor": 2
}
